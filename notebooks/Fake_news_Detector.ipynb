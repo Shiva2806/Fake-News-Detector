{
 "cells": [
  {
   "cell_type": "code",
   "execution_count": 10,
   "id": "e257ea9e",
   "metadata": {},
   "outputs": [
    {
     "name": "stdout",
     "output_type": "stream",
     "text": [
      "Imports complete.\n",
      "Using device: cuda\n",
      "Device name: NVIDIA GeForce RTX 3050 Laptop GPU\n"
     ]
    }
   ],
   "source": [
    "# Cell 1: Imports and Setup\n",
    "import pandas as pd\n",
    "import numpy as np\n",
    "import re\n",
    "import torch\n",
    "from sklearn.metrics import accuracy_score, precision_recall_fscore_support\n",
    "from transformers import AutoTokenizer, AutoModelForSequenceClassification, TrainingArguments, Trainer, DataCollatorWithPadding, EarlyStoppingCallback\n",
    "from datasets import Dataset\n",
    "\n",
    "print(\"Imports complete.\")\n",
    "# Check for GPU availability\n",
    "device = torch.device(\"cuda\" if torch.cuda.is_available() else \"cpu\")\n",
    "print(f\"Using device: {device}\")\n",
    "if torch.cuda.is_available():\n",
    "    print(f\"Device name: {torch.cuda.get_device_name(0)}\")"
   ]
  },
  {
   "cell_type": "code",
   "execution_count": null,
   "id": "cff56ada",
   "metadata": {},
   "outputs": [
    {
     "name": "stdout",
     "output_type": "stream",
     "text": [
      "Loading datasets...\n",
      "All CSV files loaded successfully.\n"
     ]
    }
   ],
   "source": [
    "# Cell 2: Define Cleaning Function and Load Data\n",
    "def clean_source_tags(text):\n",
    "  \"\"\"Removes source tags like (Reuters) from the start of a string.\"\"\"\n",
    "  text = str(text)\n",
    "  # This regex removes patterns like \"WASHINGTON (Reuters) -\"\n",
    "  cleaned_text = re.sub(r'^\\s*[\\w\\s/]+\\s*\\([\\w\\s]+\\)\\s*-\\s*', '', text, flags=re.IGNORECASE)\n",
    "  return cleaned_text\n",
    "\n",
    "print(\"Loading datasets...\")\n",
    "try:\n",
    "    real1 = pd.read_csv(\"../data/Real.csv\")\n",
    "    real2 = pd.read_csv(\"../data/Real_2.csv\")\n",
    "    # Using on_bad_lines='skip' for robustness\n",
    "    fake1 = pd.read_csv(\"../data/Fake.csv\", on_bad_lines='skip', low_memory=False)\n",
    "    fake2 = pd.read_csv(\"../data/Fake_2.csv\")\n",
    "    print(\"All CSV files loaded successfully.\")\n",
    "except FileNotFoundError as e:\n",
    "    print(f\"Error: {e}. Make sure the CSV files are in the same folder as the notebook.\")"
   ]
  },
  {
   "cell_type": "code",
   "execution_count": 12,
   "id": "5cbbf08e",
   "metadata": {},
   "outputs": [
    {
     "name": "stdout",
     "output_type": "stream",
     "text": [
      "Applying cleaning function to text data...\n",
      "\n",
      "Data cleaning and merging complete.\n",
      "Total articles: 39661\n",
      "Class distribution:\n",
      " label\n",
      "1    21698\n",
      "0    17963\n",
      "Name: count, dtype: int64\n",
      "\n",
      "Sample of cleaned data:\n"
     ]
    },
    {
     "data": {
      "text/html": [
       "<div>\n",
       "<style scoped>\n",
       "    .dataframe tbody tr th:only-of-type {\n",
       "        vertical-align: middle;\n",
       "    }\n",
       "\n",
       "    .dataframe tbody tr th {\n",
       "        vertical-align: top;\n",
       "    }\n",
       "\n",
       "    .dataframe thead th {\n",
       "        text-align: right;\n",
       "    }\n",
       "</style>\n",
       "<table border=\"1\" class=\"dataframe\">\n",
       "  <thead>\n",
       "    <tr style=\"text-align: right;\">\n",
       "      <th></th>\n",
       "      <th>content</th>\n",
       "      <th>label</th>\n",
       "    </tr>\n",
       "  </thead>\n",
       "  <tbody>\n",
       "    <tr>\n",
       "      <th>0</th>\n",
       "      <td>WATCH: Trump Just Accidentally Admitted He St...</td>\n",
       "      <td>0</td>\n",
       "    </tr>\n",
       "    <tr>\n",
       "      <th>1</th>\n",
       "      <td>Does face yoga actually work? Experts weigh in...</td>\n",
       "      <td>1</td>\n",
       "    </tr>\n",
       "    <tr>\n",
       "      <th>2</th>\n",
       "      <td>Tax overhaul drama moves to Senate as House ap...</td>\n",
       "      <td>1</td>\n",
       "    </tr>\n",
       "    <tr>\n",
       "      <th>3</th>\n",
       "      <td>House committee considering tax relief for hur...</td>\n",
       "      <td>1</td>\n",
       "    </tr>\n",
       "    <tr>\n",
       "      <th>4</th>\n",
       "      <td>'Grave question' on House intelligence chairma...</td>\n",
       "      <td>1</td>\n",
       "    </tr>\n",
       "  </tbody>\n",
       "</table>\n",
       "</div>"
      ],
      "text/plain": [
       "                                             content  label\n",
       "0   WATCH: Trump Just Accidentally Admitted He St...      0\n",
       "1  Does face yoga actually work? Experts weigh in...      1\n",
       "2  Tax overhaul drama moves to Senate as House ap...      1\n",
       "3  House committee considering tax relief for hur...      1\n",
       "4  'Grave question' on House intelligence chairma...      1"
      ]
     },
     "metadata": {},
     "output_type": "display_data"
    },
    {
     "name": "stdout",
     "output_type": "stream",
     "text": [
      "\n",
      "Cleaned data has been saved to 'cleaned_final_data.csv'\n"
     ]
    }
   ],
   "source": [
    "# Cell 3: Process, Clean, and Merge DataFrames\n",
    "# Assign labels BEFORE merging\n",
    "real1['label'] = 1\n",
    "real2['label'] = 1\n",
    "fake1['label'] = 0\n",
    "fake2['label'] = 0\n",
    "\n",
    "# Merge all into one DataFrame\n",
    "df = pd.concat([real1, real2, fake1, fake2], ignore_index=True, sort=False)\n",
    "\n",
    "# Keep only necessary columns and drop rows with missing data\n",
    "df = df[['title', 'text', 'label']]\n",
    "df.dropna(inplace=True)\n",
    "\n",
    "# --- APPLY THE FIX FOR DATA LEAKAGE ---\n",
    "print(\"Applying cleaning function to text data...\")\n",
    "df['text'] = df['text'].apply(clean_source_tags)\n",
    "\n",
    "# Combine title and text into a single 'content' column\n",
    "df['content'] = df['title'] + \" \" + df['text']\n",
    "\n",
    "# Final cleanup\n",
    "df = df[['content', 'label']]\n",
    "df.drop_duplicates(inplace=True)\n",
    "df = df.sample(frac=1).reset_index(drop=True)\n",
    "\n",
    "print(\"\\nData cleaning and merging complete.\")\n",
    "print(f\"Total articles: {len(df)}\")\n",
    "print(\"Class distribution:\\n\", df['label'].value_counts())\n",
    "print(\"\\nSample of cleaned data:\")\n",
    "display(df.head())\n",
    "\n",
    "# This line is optional, but good practice\n",
    "df.to_csv(\"cleaned_final_data.csv\", index=False)\n",
    "print(\"\\nCleaned data has been saved to 'cleaned_final_data.csv'\")"
   ]
  },
  {
   "cell_type": "code",
   "execution_count": 13,
   "id": "55357ec1",
   "metadata": {},
   "outputs": [
    {
     "name": "stdout",
     "output_type": "stream",
     "text": [
      "Converting to Hugging Face Dataset and tokenizing...\n"
     ]
    },
    {
     "name": "stderr",
     "output_type": "stream",
     "text": [
      "c:\\Fake-News-Detector\\fake-news-env-310\\lib\\site-packages\\huggingface_hub\\file_download.py:943: FutureWarning: `resume_download` is deprecated and will be removed in version 1.0.0. Downloads always resume when possible. If you want to force a new download, use `force_download=True`.\n",
      "  warnings.warn(\n"
     ]
    },
    {
     "data": {
      "application/vnd.jupyter.widget-view+json": {
       "model_id": "078cb8e494db426bb8b5f4b2f9db59d8",
       "version_major": 2,
       "version_minor": 0
      },
      "text/plain": [
       "Map:   0%|          | 0/39661 [00:00<?, ? examples/s]"
      ]
     },
     "metadata": {},
     "output_type": "display_data"
    },
    {
     "name": "stdout",
     "output_type": "stream",
     "text": [
      "Tokenization complete.\n"
     ]
    }
   ],
   "source": [
    "# Cell 4: Convert to Dataset and Tokenize\n",
    "print(\"Converting to Hugging Face Dataset and tokenizing...\")\n",
    "\n",
    "# Convert pandas DataFrame to Hugging Face Dataset\n",
    "hg_dataset = Dataset.from_pandas(df)\n",
    "\n",
    "# Load tokenizer\n",
    "model_checkpoint = \"distilbert-base-uncased\"\n",
    "tokenizer = AutoTokenizer.from_pretrained(model_checkpoint)\n",
    "\n",
    "# Tokenize the 'content' column\n",
    "def tokenize_function(examples):\n",
    "    return tokenizer(examples[\"content\"], truncation=True, max_length=512)\n",
    "\n",
    "tokenized_dataset = hg_dataset.map(tokenize_function, batched=True, remove_columns=['content'])\n",
    "print(\"Tokenization complete.\")"
   ]
  },
  {
   "cell_type": "code",
   "execution_count": 14,
   "id": "989a0bb9",
   "metadata": {},
   "outputs": [
    {
     "name": "stdout",
     "output_type": "stream",
     "text": [
      "Dataset split into training and testing sets:\n",
      "DatasetDict({\n",
      "    train: Dataset({\n",
      "        features: ['label', 'input_ids', 'attention_mask'],\n",
      "        num_rows: 31728\n",
      "    })\n",
      "    test: Dataset({\n",
      "        features: ['label', 'input_ids', 'attention_mask'],\n",
      "        num_rows: 7933\n",
      "    })\n",
      "})\n"
     ]
    }
   ],
   "source": [
    "# Cell 5: Split into Training and Test Sets\n",
    "final_datasets = tokenized_dataset.train_test_split(test_size=0.2, seed=42)\n",
    "\n",
    "print(\"Dataset split into training and testing sets:\")\n",
    "print(final_datasets)"
   ]
  },
  {
   "cell_type": "code",
   "execution_count": 15,
   "id": "27e65da3",
   "metadata": {},
   "outputs": [
    {
     "name": "stderr",
     "output_type": "stream",
     "text": [
      "Some weights of DistilBertForSequenceClassification were not initialized from the model checkpoint at distilbert-base-uncased and are newly initialized: ['classifier.bias', 'classifier.weight', 'pre_classifier.bias', 'pre_classifier.weight']\n",
      "You should probably TRAIN this model on a down-stream task to be able to use it for predictions and inference.\n"
     ]
    },
    {
     "name": "stdout",
     "output_type": "stream",
     "text": [
      "Trainer configured successfully with early stopping.\n"
     ]
    }
   ],
   "source": [
    "# Cell 6: Configure the Trainer (Corrected)\n",
    "\n",
    "# Load the pre-trained model\n",
    "model = AutoModelForSequenceClassification.from_pretrained(model_checkpoint, num_labels=2)\n",
    "\n",
    "# Define the function to compute metrics during evaluation\n",
    "def compute_metrics(eval_pred):\n",
    "    logits, labels = eval_pred\n",
    "    predictions = np.argmax(logits, axis=-1)\n",
    "    precision, recall, f1, _ = precision_recall_fscore_support(labels, predictions, average='binary')\n",
    "    acc = accuracy_score(labels, predictions)\n",
    "    return {'accuracy': acc, 'f1': f1, 'precision': precision, 'recall': recall}\n",
    "\n",
    "# Training Arguments (without the problematic argument)\n",
    "training_args = TrainingArguments(\n",
    "    output_dir=\"./cleaned_results\",\n",
    "    num_train_epochs=3,\n",
    "    per_device_train_batch_size=4,\n",
    "    gradient_accumulation_steps=2,\n",
    "    weight_decay=0.01,\n",
    "    logging_steps=50,\n",
    "    evaluation_strategy=\"epoch\",\n",
    "    save_strategy=\"epoch\",\n",
    "    load_best_model_at_end=True,\n",
    "    metric_for_best_model=\"f1\",\n",
    "    report_to=\"none\"\n",
    ")\n",
    "\n",
    "# Data collator handles batching and padding\n",
    "data_collator = DataCollatorWithPadding(tokenizer=tokenizer)\n",
    "\n",
    "# ✨ FIX IS HERE: We define the callback separately\n",
    "early_stopping_callback = EarlyStoppingCallback(early_stopping_patience=2)\n",
    "\n",
    "# Instantiate the Trainer and pass the callback\n",
    "trainer = Trainer(\n",
    "    model=model,\n",
    "    args=training_args,\n",
    "    train_dataset=final_datasets[\"train\"],\n",
    "    eval_dataset=final_datasets[\"test\"],\n",
    "    compute_metrics=compute_metrics,\n",
    "    data_collator=data_collator,\n",
    "    tokenizer=tokenizer,\n",
    "    callbacks=[early_stopping_callback] # ✨ AND PASS IT HERE\n",
    ")\n",
    "\n",
    "print(\"Trainer configured successfully with early stopping.\")"
   ]
  },
  {
   "cell_type": "code",
   "execution_count": 16,
   "id": "20cae495",
   "metadata": {},
   "outputs": [
    {
     "name": "stdout",
     "output_type": "stream",
     "text": [
      "Starting model training...\n"
     ]
    },
    {
     "data": {
      "application/vnd.jupyter.widget-view+json": {
       "model_id": "7eac529e76cd4b9ab598cd2c996ce2ab",
       "version_major": 2,
       "version_minor": 0
      },
      "text/plain": [
       "  0%|          | 0/11898 [00:00<?, ?it/s]"
      ]
     },
     "metadata": {},
     "output_type": "display_data"
    },
    {
     "name": "stdout",
     "output_type": "stream",
     "text": [
      "{'loss': 0.2596, 'grad_norm': 0.07416758686304092, 'learning_rate': 4.978988065221046e-05, 'epoch': 0.01}\n",
      "{'loss': 0.0965, 'grad_norm': 0.031324438750743866, 'learning_rate': 4.957976130442091e-05, 'epoch': 0.03}\n",
      "{'loss': 0.1381, 'grad_norm': 11.813939094543457, 'learning_rate': 4.936964195663137e-05, 'epoch': 0.04}\n",
      "{'loss': 0.0661, 'grad_norm': 29.78945541381836, 'learning_rate': 4.9159522608841824e-05, 'epoch': 0.05}\n",
      "{'loss': 0.0442, 'grad_norm': 0.01289269607514143, 'learning_rate': 4.894940326105228e-05, 'epoch': 0.06}\n",
      "{'loss': 0.0854, 'grad_norm': 33.22032165527344, 'learning_rate': 4.8739283913262734e-05, 'epoch': 0.08}\n",
      "{'loss': 0.0433, 'grad_norm': 0.05260776728391647, 'learning_rate': 4.852916456547319e-05, 'epoch': 0.09}\n",
      "{'loss': 0.0782, 'grad_norm': 0.046225883066654205, 'learning_rate': 4.8319045217683645e-05, 'epoch': 0.1}\n",
      "{'loss': 0.0687, 'grad_norm': 0.011060580611228943, 'learning_rate': 4.81089258698941e-05, 'epoch': 0.11}\n",
      "{'loss': 0.006, 'grad_norm': 0.009733675979077816, 'learning_rate': 4.7898806522104555e-05, 'epoch': 0.13}\n",
      "{'loss': 0.0149, 'grad_norm': 42.10296630859375, 'learning_rate': 4.768868717431501e-05, 'epoch': 0.14}\n",
      "{'loss': 0.0547, 'grad_norm': 0.011611685156822205, 'learning_rate': 4.7478567826525466e-05, 'epoch': 0.15}\n",
      "{'loss': 0.0137, 'grad_norm': 0.0045806365087628365, 'learning_rate': 4.726844847873592e-05, 'epoch': 0.16}\n",
      "{'loss': 0.0429, 'grad_norm': 0.003774335840716958, 'learning_rate': 4.705832913094638e-05, 'epoch': 0.18}\n",
      "{'loss': 0.0627, 'grad_norm': 0.02654256485402584, 'learning_rate': 4.684820978315684e-05, 'epoch': 0.19}\n",
      "{'loss': 0.023, 'grad_norm': 0.004090472124516964, 'learning_rate': 4.6638090435367294e-05, 'epoch': 0.2}\n",
      "{'loss': 0.0512, 'grad_norm': 0.0016829941887408495, 'learning_rate': 4.642797108757775e-05, 'epoch': 0.21}\n",
      "{'loss': 0.0003, 'grad_norm': 0.0020448886789381504, 'learning_rate': 4.6217851739788204e-05, 'epoch': 0.23}\n",
      "{'loss': 0.0331, 'grad_norm': 0.00212670536711812, 'learning_rate': 4.600773239199866e-05, 'epoch': 0.24}\n",
      "{'loss': 0.0321, 'grad_norm': 0.0025214985944330692, 'learning_rate': 4.5797613044209115e-05, 'epoch': 0.25}\n",
      "{'loss': 0.0072, 'grad_norm': 36.45368576049805, 'learning_rate': 4.558749369641957e-05, 'epoch': 0.26}\n",
      "{'loss': 0.0427, 'grad_norm': 0.0031368560157716274, 'learning_rate': 4.5377374348630026e-05, 'epoch': 0.28}\n",
      "{'loss': 0.0618, 'grad_norm': 0.054930057376623154, 'learning_rate': 4.516725500084048e-05, 'epoch': 0.29}\n",
      "{'loss': 0.0207, 'grad_norm': 0.003073633648455143, 'learning_rate': 4.4957135653050936e-05, 'epoch': 0.3}\n",
      "{'loss': 0.041, 'grad_norm': 0.05767690762877464, 'learning_rate': 4.474701630526139e-05, 'epoch': 0.32}\n",
      "{'loss': 0.0612, 'grad_norm': 35.366783142089844, 'learning_rate': 4.453689695747185e-05, 'epoch': 0.33}\n",
      "{'loss': 0.0003, 'grad_norm': 0.001909914892166853, 'learning_rate': 4.43267776096823e-05, 'epoch': 0.34}\n",
      "{'loss': 0.0001, 'grad_norm': 0.0012729139998555183, 'learning_rate': 4.411665826189276e-05, 'epoch': 0.35}\n",
      "{'loss': 0.0001, 'grad_norm': 0.0012353650527074933, 'learning_rate': 4.390653891410321e-05, 'epoch': 0.37}\n",
      "{'loss': 0.0199, 'grad_norm': 0.0011391406878829002, 'learning_rate': 4.369641956631367e-05, 'epoch': 0.38}\n",
      "{'loss': 0.0328, 'grad_norm': 0.0045035649091005325, 'learning_rate': 4.348630021852412e-05, 'epoch': 0.39}\n",
      "{'loss': 0.0168, 'grad_norm': 20.52988624572754, 'learning_rate': 4.327618087073458e-05, 'epoch': 0.4}\n",
      "{'loss': 0.0581, 'grad_norm': 0.9529768228530884, 'learning_rate': 4.3066061522945034e-05, 'epoch': 0.42}\n",
      "{'loss': 0.057, 'grad_norm': 0.0034112778957933187, 'learning_rate': 4.285594217515549e-05, 'epoch': 0.43}\n",
      "{'loss': 0.0461, 'grad_norm': 0.0045451391488313675, 'learning_rate': 4.2645822827365944e-05, 'epoch': 0.44}\n",
      "{'loss': 0.0061, 'grad_norm': 0.0024457494728267193, 'learning_rate': 4.24357034795764e-05, 'epoch': 0.45}\n",
      "{'loss': 0.0046, 'grad_norm': 0.07634744048118591, 'learning_rate': 4.2225584131786855e-05, 'epoch': 0.47}\n",
      "{'loss': 0.038, 'grad_norm': 0.1393601894378662, 'learning_rate': 4.201546478399731e-05, 'epoch': 0.48}\n",
      "{'loss': 0.0128, 'grad_norm': 0.44240474700927734, 'learning_rate': 4.1805345436207766e-05, 'epoch': 0.49}\n",
      "{'loss': 0.0451, 'grad_norm': 0.0012433386873453856, 'learning_rate': 4.159522608841822e-05, 'epoch': 0.5}\n",
      "{'loss': 0.0052, 'grad_norm': 0.0007223834982141852, 'learning_rate': 4.1385106740628676e-05, 'epoch': 0.52}\n",
      "{'loss': 0.0302, 'grad_norm': 0.0015211511636152864, 'learning_rate': 4.117498739283914e-05, 'epoch': 0.53}\n",
      "{'loss': 0.0234, 'grad_norm': 0.015673574060201645, 'learning_rate': 4.0964868045049594e-05, 'epoch': 0.54}\n",
      "{'loss': 0.0255, 'grad_norm': 0.007022405508905649, 'learning_rate': 4.075474869726005e-05, 'epoch': 0.55}\n",
      "{'loss': 0.0177, 'grad_norm': 0.0010429114336147904, 'learning_rate': 4.0544629349470504e-05, 'epoch': 0.57}\n",
      "{'loss': 0.0025, 'grad_norm': 0.0010208471212536097, 'learning_rate': 4.033451000168096e-05, 'epoch': 0.58}\n",
      "{'loss': 0.0002, 'grad_norm': 0.0005504815489985049, 'learning_rate': 4.0124390653891415e-05, 'epoch': 0.59}\n",
      "{'loss': 0.0262, 'grad_norm': 0.004148054402321577, 'learning_rate': 3.991427130610187e-05, 'epoch': 0.61}\n",
      "{'loss': 0.0002, 'grad_norm': 0.003226163098588586, 'learning_rate': 3.9704151958312325e-05, 'epoch': 0.62}\n",
      "{'loss': 0.0001, 'grad_norm': 0.0019301306456327438, 'learning_rate': 3.949403261052278e-05, 'epoch': 0.63}\n",
      "{'loss': 0.0001, 'grad_norm': 0.0008269133977591991, 'learning_rate': 3.9283913262733236e-05, 'epoch': 0.64}\n",
      "{'loss': 0.0105, 'grad_norm': 0.0015332872280851007, 'learning_rate': 3.907379391494369e-05, 'epoch': 0.66}\n",
      "{'loss': 0.0429, 'grad_norm': 0.0007966785342432559, 'learning_rate': 3.8863674567154146e-05, 'epoch': 0.67}\n",
      "{'loss': 0.0039, 'grad_norm': 0.0020050357561558485, 'learning_rate': 3.86535552193646e-05, 'epoch': 0.68}\n",
      "{'loss': 0.0002, 'grad_norm': 0.0016415654681622982, 'learning_rate': 3.844343587157506e-05, 'epoch': 0.69}\n",
      "{'loss': 0.0119, 'grad_norm': 0.0014570312341675162, 'learning_rate': 3.823331652378551e-05, 'epoch': 0.71}\n",
      "{'loss': 0.009, 'grad_norm': 0.000932057446334511, 'learning_rate': 3.802319717599597e-05, 'epoch': 0.72}\n",
      "{'loss': 0.0, 'grad_norm': 0.0007362182950600982, 'learning_rate': 3.781307782820642e-05, 'epoch': 0.73}\n",
      "{'loss': 0.0, 'grad_norm': 0.0006850449135527015, 'learning_rate': 3.760295848041688e-05, 'epoch': 0.74}\n",
      "{'loss': 0.0599, 'grad_norm': 0.01620590128004551, 'learning_rate': 3.7392839132627334e-05, 'epoch': 0.76}\n",
      "{'loss': 0.0005, 'grad_norm': 0.0016578558133915067, 'learning_rate': 3.718271978483779e-05, 'epoch': 0.77}\n",
      "{'loss': 0.0001, 'grad_norm': 0.002047374378889799, 'learning_rate': 3.6972600437048244e-05, 'epoch': 0.78}\n",
      "{'loss': 0.0001, 'grad_norm': 0.0004965586704201996, 'learning_rate': 3.67624810892587e-05, 'epoch': 0.79}\n",
      "{'loss': 0.0156, 'grad_norm': 0.0010218044044449925, 'learning_rate': 3.6552361741469155e-05, 'epoch': 0.81}\n",
      "{'loss': 0.016, 'grad_norm': 0.0008830811711959541, 'learning_rate': 3.634224239367961e-05, 'epoch': 0.82}\n",
      "{'loss': 0.0412, 'grad_norm': 0.0978836640715599, 'learning_rate': 3.6132123045890065e-05, 'epoch': 0.83}\n",
      "{'loss': 0.0195, 'grad_norm': 0.009194792248308659, 'learning_rate': 3.592200369810052e-05, 'epoch': 0.84}\n",
      "{'loss': 0.0003, 'grad_norm': 0.0020889791194349527, 'learning_rate': 3.5711884350310976e-05, 'epoch': 0.86}\n",
      "{'loss': 0.0001, 'grad_norm': 0.0022916020825505257, 'learning_rate': 3.550176500252144e-05, 'epoch': 0.87}\n",
      "{'loss': 0.0066, 'grad_norm': 0.003607583697885275, 'learning_rate': 3.529164565473189e-05, 'epoch': 0.88}\n",
      "{'loss': 0.0199, 'grad_norm': 0.00048569979844614863, 'learning_rate': 3.508152630694235e-05, 'epoch': 0.9}\n",
      "{'loss': 0.0441, 'grad_norm': 0.0014495830982923508, 'learning_rate': 3.4871406959152804e-05, 'epoch': 0.91}\n",
      "{'loss': 0.0001, 'grad_norm': 0.0007909261621534824, 'learning_rate': 3.466128761136326e-05, 'epoch': 0.92}\n",
      "{'loss': 0.0, 'grad_norm': 0.0007239345577545464, 'learning_rate': 3.4451168263573714e-05, 'epoch': 0.93}\n",
      "{'loss': 0.0087, 'grad_norm': 0.000621614686679095, 'learning_rate': 3.424104891578417e-05, 'epoch': 0.95}\n",
      "{'loss': 0.0256, 'grad_norm': 0.0031822568271309137, 'learning_rate': 3.4030929567994625e-05, 'epoch': 0.96}\n",
      "{'loss': 0.0001, 'grad_norm': 0.0015723505057394505, 'learning_rate': 3.382081022020508e-05, 'epoch': 0.97}\n",
      "{'loss': 0.037, 'grad_norm': 0.013946794904768467, 'learning_rate': 3.3610690872415536e-05, 'epoch': 0.98}\n",
      "{'loss': 0.0152, 'grad_norm': 0.007690088357776403, 'learning_rate': 3.340057152462599e-05, 'epoch': 1.0}\n"
     ]
    },
    {
     "data": {
      "application/vnd.jupyter.widget-view+json": {
       "model_id": "d17aae8044a045d6813fddc851b448e0",
       "version_major": 2,
       "version_minor": 0
      },
      "text/plain": [
       "  0%|          | 0/992 [00:00<?, ?it/s]"
      ]
     },
     "metadata": {},
     "output_type": "display_data"
    },
    {
     "name": "stdout",
     "output_type": "stream",
     "text": [
      "{'eval_loss': 0.01037507876753807, 'eval_accuracy': 0.9977309971007186, 'eval_f1': 0.9979166666666667, 'eval_precision': 0.9979166666666667, 'eval_recall': 0.9979166666666667, 'eval_runtime': 140.1496, 'eval_samples_per_second': 56.604, 'eval_steps_per_second': 7.078, 'epoch': 1.0}\n",
      "{'loss': 0.0001, 'grad_norm': 0.0015129001112654805, 'learning_rate': 3.3190452176836446e-05, 'epoch': 1.01}\n",
      "{'loss': 0.0127, 'grad_norm': 0.002271753503009677, 'learning_rate': 3.29803328290469e-05, 'epoch': 1.02}\n",
      "{'loss': 0.0402, 'grad_norm': 0.006044188514351845, 'learning_rate': 3.277021348125736e-05, 'epoch': 1.03}\n",
      "{'loss': 0.0003, 'grad_norm': 0.00409852247685194, 'learning_rate': 3.256009413346781e-05, 'epoch': 1.05}\n",
      "{'loss': 0.0305, 'grad_norm': 0.0010938247432932258, 'learning_rate': 3.234997478567827e-05, 'epoch': 1.06}\n",
      "{'loss': 0.0191, 'grad_norm': 0.0020509427413344383, 'learning_rate': 3.213985543788872e-05, 'epoch': 1.07}\n",
      "{'loss': 0.0211, 'grad_norm': 0.002401539124548435, 'learning_rate': 3.192973609009918e-05, 'epoch': 1.08}\n",
      "{'loss': 0.0176, 'grad_norm': 0.0021553044207394123, 'learning_rate': 3.171961674230963e-05, 'epoch': 1.1}\n",
      "{'loss': 0.022, 'grad_norm': 0.019012732431292534, 'learning_rate': 3.150949739452009e-05, 'epoch': 1.11}\n",
      "{'loss': 0.0001, 'grad_norm': 0.0014530726475641131, 'learning_rate': 3.1299378046730544e-05, 'epoch': 1.12}\n",
      "{'loss': 0.0, 'grad_norm': 0.00033782527316361666, 'learning_rate': 3.1089258698941e-05, 'epoch': 1.13}\n",
      "{'loss': 0.0246, 'grad_norm': 0.001212759525515139, 'learning_rate': 3.0879139351151454e-05, 'epoch': 1.15}\n",
      "{'loss': 0.0002, 'grad_norm': 0.0009068530634976923, 'learning_rate': 3.066902000336191e-05, 'epoch': 1.16}\n",
      "{'loss': 0.0, 'grad_norm': 0.0004886077949777246, 'learning_rate': 3.0458900655572365e-05, 'epoch': 1.17}\n",
      "{'loss': 0.0197, 'grad_norm': 0.008473534137010574, 'learning_rate': 3.024878130778282e-05, 'epoch': 1.19}\n",
      "{'loss': 0.0244, 'grad_norm': 0.0043616872280836105, 'learning_rate': 3.0038661959993276e-05, 'epoch': 1.2}\n",
      "{'loss': 0.0012, 'grad_norm': 0.0006228892598301172, 'learning_rate': 2.9828542612203734e-05, 'epoch': 1.21}\n",
      "{'loss': 0.0231, 'grad_norm': 0.044507160782814026, 'learning_rate': 2.9618423264414193e-05, 'epoch': 1.22}\n",
      "{'loss': 0.0027, 'grad_norm': 0.0008780648931860924, 'learning_rate': 2.9408303916624648e-05, 'epoch': 1.24}\n",
      "{'loss': 0.0035, 'grad_norm': 0.00030375897767953575, 'learning_rate': 2.9198184568835103e-05, 'epoch': 1.25}\n",
      "{'loss': 0.0049, 'grad_norm': 0.0004615970829036087, 'learning_rate': 2.898806522104556e-05, 'epoch': 1.26}\n",
      "{'loss': 0.0, 'grad_norm': 0.0005475168582051992, 'learning_rate': 2.8777945873256014e-05, 'epoch': 1.27}\n",
      "{'loss': 0.0, 'grad_norm': 0.0004901469801552594, 'learning_rate': 2.856782652546647e-05, 'epoch': 1.29}\n",
      "{'loss': 0.0, 'grad_norm': 0.00024981400929391384, 'learning_rate': 2.8357707177676925e-05, 'epoch': 1.3}\n",
      "{'loss': 0.0, 'grad_norm': 0.00029056426137685776, 'learning_rate': 2.814758782988738e-05, 'epoch': 1.31}\n",
      "{'loss': 0.0386, 'grad_norm': 0.07548780739307404, 'learning_rate': 2.7937468482097835e-05, 'epoch': 1.32}\n",
      "{'loss': 0.0001, 'grad_norm': 0.0002472424821462482, 'learning_rate': 2.772734913430829e-05, 'epoch': 1.34}\n",
      "{'loss': 0.0002, 'grad_norm': 0.0005720635526813567, 'learning_rate': 2.7517229786518746e-05, 'epoch': 1.35}\n",
      "{'loss': 0.0001, 'grad_norm': 0.00016364487237296999, 'learning_rate': 2.73071104387292e-05, 'epoch': 1.36}\n",
      "{'loss': 0.0, 'grad_norm': 0.00017161891446448863, 'learning_rate': 2.7096991090939656e-05, 'epoch': 1.37}\n",
      "{'loss': 0.0219, 'grad_norm': 0.0010738956043496728, 'learning_rate': 2.6886871743150112e-05, 'epoch': 1.39}\n",
      "{'loss': 0.0, 'grad_norm': 0.0004251425270922482, 'learning_rate': 2.6676752395360567e-05, 'epoch': 1.4}\n",
      "{'loss': 0.0, 'grad_norm': 0.0002410927409073338, 'learning_rate': 2.6466633047571022e-05, 'epoch': 1.41}\n",
      "{'loss': 0.0, 'grad_norm': 0.00014960004773456603, 'learning_rate': 2.6256513699781478e-05, 'epoch': 1.42}\n",
      "{'loss': 0.0, 'grad_norm': 0.00019143112876918167, 'learning_rate': 2.6046394351991933e-05, 'epoch': 1.44}\n",
      "{'loss': 0.0536, 'grad_norm': 0.01073016319423914, 'learning_rate': 2.5836275004202388e-05, 'epoch': 1.45}\n",
      "{'loss': 0.0003, 'grad_norm': 0.002339588478207588, 'learning_rate': 2.5626155656412843e-05, 'epoch': 1.46}\n",
      "{'loss': 0.0001, 'grad_norm': 0.0016963852103799582, 'learning_rate': 2.54160363086233e-05, 'epoch': 1.48}\n",
      "{'loss': 0.0006, 'grad_norm': 0.0003168360562995076, 'learning_rate': 2.5205916960833754e-05, 'epoch': 1.49}\n",
      "{'loss': 0.016, 'grad_norm': 0.0005916463560424745, 'learning_rate': 2.4995797613044213e-05, 'epoch': 1.5}\n",
      "{'loss': 0.0096, 'grad_norm': 0.0002856101200450212, 'learning_rate': 2.4785678265254668e-05, 'epoch': 1.51}\n",
      "{'loss': 0.0156, 'grad_norm': 0.012558819726109505, 'learning_rate': 2.4575558917465123e-05, 'epoch': 1.53}\n",
      "{'loss': 0.0, 'grad_norm': 0.00028632377507165074, 'learning_rate': 2.436543956967558e-05, 'epoch': 1.54}\n",
      "{'loss': 0.0, 'grad_norm': 0.00024778806255199015, 'learning_rate': 2.4155320221886034e-05, 'epoch': 1.55}\n",
      "{'loss': 0.0, 'grad_norm': 0.00014469785674009472, 'learning_rate': 2.394520087409649e-05, 'epoch': 1.56}\n",
      "{'loss': 0.0, 'grad_norm': 0.000140293879667297, 'learning_rate': 2.3735081526306945e-05, 'epoch': 1.58}\n",
      "{'loss': 0.0, 'grad_norm': 0.00023096654331311584, 'learning_rate': 2.35249621785174e-05, 'epoch': 1.59}\n",
      "{'loss': 0.0254, 'grad_norm': 0.005512527655810118, 'learning_rate': 2.3314842830727855e-05, 'epoch': 1.6}\n",
      "{'loss': 0.0001, 'grad_norm': 0.001894830958917737, 'learning_rate': 2.310472348293831e-05, 'epoch': 1.61}\n",
      "{'loss': 0.0001, 'grad_norm': 0.0003025787300430238, 'learning_rate': 2.2894604135148766e-05, 'epoch': 1.63}\n",
      "{'loss': 0.0, 'grad_norm': 0.0009460939327254891, 'learning_rate': 2.268448478735922e-05, 'epoch': 1.64}\n",
      "{'loss': 0.0006, 'grad_norm': 0.0004655267985071987, 'learning_rate': 2.2474365439569676e-05, 'epoch': 1.65}\n",
      "{'loss': 0.0001, 'grad_norm': 0.00014351644495036453, 'learning_rate': 2.226424609178013e-05, 'epoch': 1.66}\n",
      "{'loss': 0.0477, 'grad_norm': 0.0034267918672412634, 'learning_rate': 2.2054126743990587e-05, 'epoch': 1.68}\n",
      "{'loss': 0.0002, 'grad_norm': 0.0021791597828269005, 'learning_rate': 2.1844007396201046e-05, 'epoch': 1.69}\n",
      "{'loss': 0.0001, 'grad_norm': 0.0017488158773630857, 'learning_rate': 2.16338880484115e-05, 'epoch': 1.7}\n",
      "{'loss': 0.0, 'grad_norm': 0.0007401423645205796, 'learning_rate': 2.1423768700621956e-05, 'epoch': 1.71}\n",
      "{'loss': 0.0192, 'grad_norm': 14.415077209472656, 'learning_rate': 2.121364935283241e-05, 'epoch': 1.73}\n",
      "{'loss': 0.0, 'grad_norm': 0.0004769162624143064, 'learning_rate': 2.1003530005042867e-05, 'epoch': 1.74}\n",
      "{'loss': 0.0, 'grad_norm': 0.0004886701935902238, 'learning_rate': 2.0793410657253322e-05, 'epoch': 1.75}\n",
      "{'loss': 0.0, 'grad_norm': 0.0006148848915472627, 'learning_rate': 2.0583291309463777e-05, 'epoch': 1.77}\n",
      "{'loss': 0.009, 'grad_norm': 0.0003959692839998752, 'learning_rate': 2.0373171961674233e-05, 'epoch': 1.78}\n",
      "{'loss': 0.0234, 'grad_norm': 6.738098621368408, 'learning_rate': 2.0163052613884688e-05, 'epoch': 1.79}\n",
      "{'loss': 0.0095, 'grad_norm': 0.0012190657434985042, 'learning_rate': 1.9952933266095143e-05, 'epoch': 1.8}\n",
      "{'loss': 0.0119, 'grad_norm': 0.0006265031406655908, 'learning_rate': 1.97428139183056e-05, 'epoch': 1.82}\n",
      "{'loss': 0.0001, 'grad_norm': 0.0002168358041672036, 'learning_rate': 1.9532694570516054e-05, 'epoch': 1.83}\n",
      "{'loss': 0.0147, 'grad_norm': 0.01541907899081707, 'learning_rate': 1.932257522272651e-05, 'epoch': 1.84}\n",
      "{'loss': 0.0001, 'grad_norm': 0.0007897063042037189, 'learning_rate': 1.9112455874936964e-05, 'epoch': 1.85}\n",
      "{'loss': 0.0, 'grad_norm': 0.0002605727640911937, 'learning_rate': 1.890233652714742e-05, 'epoch': 1.87}\n",
      "{'loss': 0.0, 'grad_norm': 0.0002719994226936251, 'learning_rate': 1.8692217179357875e-05, 'epoch': 1.88}\n",
      "{'loss': 0.0, 'grad_norm': 0.00023717684962321073, 'learning_rate': 1.848209783156833e-05, 'epoch': 1.89}\n",
      "{'loss': 0.0, 'grad_norm': 0.0002424381673336029, 'learning_rate': 1.8271978483778786e-05, 'epoch': 1.9}\n",
      "{'loss': 0.0005, 'grad_norm': 0.0004952743765898049, 'learning_rate': 1.8061859135989244e-05, 'epoch': 1.92}\n",
      "{'loss': 0.0066, 'grad_norm': 0.00015601444465573877, 'learning_rate': 1.78517397881997e-05, 'epoch': 1.93}\n",
      "{'loss': 0.0, 'grad_norm': 0.0001544224942335859, 'learning_rate': 1.7641620440410155e-05, 'epoch': 1.94}\n",
      "{'loss': 0.0005, 'grad_norm': 0.00013902898353990167, 'learning_rate': 1.743150109262061e-05, 'epoch': 1.95}\n",
      "{'loss': 0.0, 'grad_norm': 0.00012914462422486395, 'learning_rate': 1.7221381744831065e-05, 'epoch': 1.97}\n",
      "{'loss': 0.0, 'grad_norm': 0.00010887227108469233, 'learning_rate': 1.701126239704152e-05, 'epoch': 1.98}\n",
      "{'loss': 0.0, 'grad_norm': 0.0002957983815576881, 'learning_rate': 1.6801143049251976e-05, 'epoch': 1.99}\n"
     ]
    },
    {
     "data": {
      "application/vnd.jupyter.widget-view+json": {
       "model_id": "56a418d8adb344c0bec0333509e391fa",
       "version_major": 2,
       "version_minor": 0
      },
      "text/plain": [
       "  0%|          | 0/992 [00:00<?, ?it/s]"
      ]
     },
     "metadata": {},
     "output_type": "display_data"
    },
    {
     "name": "stdout",
     "output_type": "stream",
     "text": [
      "{'eval_loss': 0.006436367053538561, 'eval_accuracy': 0.998991554266986, 'eval_f1': 0.999073859689743, 'eval_precision': 0.9993052339045855, 'eval_recall': 0.9988425925925926, 'eval_runtime': 140.2425, 'eval_samples_per_second': 56.566, 'eval_steps_per_second': 7.073, 'epoch': 2.0}\n",
      "{'loss': 0.0, 'grad_norm': 8.859809167915955e-05, 'learning_rate': 1.659102370146243e-05, 'epoch': 2.0}\n",
      "{'loss': 0.003, 'grad_norm': 9.774068166734651e-05, 'learning_rate': 1.6380904353672887e-05, 'epoch': 2.02}\n",
      "{'loss': 0.0005, 'grad_norm': 7.229402399389073e-05, 'learning_rate': 1.6170785005883342e-05, 'epoch': 2.03}\n",
      "{'loss': 0.0248, 'grad_norm': 0.00017230129742529243, 'learning_rate': 1.5960665658093797e-05, 'epoch': 2.04}\n",
      "{'loss': 0.0087, 'grad_norm': 8.562341690063477, 'learning_rate': 1.5750546310304252e-05, 'epoch': 2.05}\n",
      "{'loss': 0.0, 'grad_norm': 0.001984846079722047, 'learning_rate': 1.5540426962514708e-05, 'epoch': 2.07}\n",
      "{'loss': 0.0, 'grad_norm': 0.00015360457473434508, 'learning_rate': 1.5330307614725163e-05, 'epoch': 2.08}\n",
      "{'loss': 0.0, 'grad_norm': 0.42795243859291077, 'learning_rate': 1.512018826693562e-05, 'epoch': 2.09}\n",
      "{'loss': 0.0, 'grad_norm': 0.00036211940459907055, 'learning_rate': 1.4910068919146075e-05, 'epoch': 2.11}\n",
      "{'loss': 0.0, 'grad_norm': 0.00028045615181326866, 'learning_rate': 1.469994957135653e-05, 'epoch': 2.12}\n",
      "{'loss': 0.0, 'grad_norm': 0.00015128102677408606, 'learning_rate': 1.4489830223566986e-05, 'epoch': 2.13}\n",
      "{'loss': 0.0, 'grad_norm': 7.914721209090203e-05, 'learning_rate': 1.4279710875777441e-05, 'epoch': 2.14}\n",
      "{'loss': 0.0, 'grad_norm': 0.00010255599045194685, 'learning_rate': 1.4069591527987896e-05, 'epoch': 2.16}\n",
      "{'loss': 0.0003, 'grad_norm': 8.620411244919524e-05, 'learning_rate': 1.3859472180198355e-05, 'epoch': 2.17}\n",
      "{'loss': 0.0, 'grad_norm': 6.405226304195821e-05, 'learning_rate': 1.364935283240881e-05, 'epoch': 2.18}\n",
      "{'loss': 0.0, 'grad_norm': 0.00020558651885949075, 'learning_rate': 1.3439233484619266e-05, 'epoch': 2.19}\n",
      "{'loss': 0.0, 'grad_norm': 9.259024227503687e-05, 'learning_rate': 1.3229114136829721e-05, 'epoch': 2.21}\n",
      "{'loss': 0.0, 'grad_norm': 6.273569306358695e-05, 'learning_rate': 1.3018994789040176e-05, 'epoch': 2.22}\n",
      "{'loss': 0.0, 'grad_norm': 5.7953104260377586e-05, 'learning_rate': 1.2808875441250632e-05, 'epoch': 2.23}\n",
      "{'loss': 0.0, 'grad_norm': 0.00044355104910209775, 'learning_rate': 1.2598756093461087e-05, 'epoch': 2.24}\n",
      "{'loss': 0.0, 'grad_norm': 5.2569292165571824e-05, 'learning_rate': 1.2388636745671542e-05, 'epoch': 2.26}\n",
      "{'loss': 0.0, 'grad_norm': 9.285578562412411e-05, 'learning_rate': 1.2178517397881997e-05, 'epoch': 2.27}\n",
      "{'loss': 0.0, 'grad_norm': 0.0001155738063971512, 'learning_rate': 1.1968398050092453e-05, 'epoch': 2.28}\n",
      "{'loss': 0.0, 'grad_norm': 0.0002544382296036929, 'learning_rate': 1.175827870230291e-05, 'epoch': 2.29}\n",
      "{'loss': 0.0, 'grad_norm': 9.296794451074675e-05, 'learning_rate': 1.1548159354513365e-05, 'epoch': 2.31}\n",
      "{'loss': 0.0, 'grad_norm': 6.851667421869934e-05, 'learning_rate': 1.133804000672382e-05, 'epoch': 2.32}\n",
      "{'loss': 0.0, 'grad_norm': 8.105220331344754e-05, 'learning_rate': 1.1127920658934276e-05, 'epoch': 2.33}\n",
      "{'loss': 0.0, 'grad_norm': 6.464880425482988e-05, 'learning_rate': 1.0917801311144731e-05, 'epoch': 2.34}\n",
      "{'loss': 0.0, 'grad_norm': 5.435714410850778e-05, 'learning_rate': 1.0707681963355186e-05, 'epoch': 2.36}\n",
      "{'loss': 0.0, 'grad_norm': 4.654266012948938e-05, 'learning_rate': 1.0497562615565642e-05, 'epoch': 2.37}\n",
      "{'loss': 0.0128, 'grad_norm': 7.347381324507296e-05, 'learning_rate': 1.0287443267776098e-05, 'epoch': 2.38}\n",
      "{'loss': 0.0129, 'grad_norm': 0.0001720561267575249, 'learning_rate': 1.0077323919986554e-05, 'epoch': 2.4}\n",
      "{'loss': 0.0, 'grad_norm': 7.00199234415777e-05, 'learning_rate': 9.867204572197009e-06, 'epoch': 2.41}\n",
      "{'loss': 0.0, 'grad_norm': 6.695873889839277e-05, 'learning_rate': 9.657085224407464e-06, 'epoch': 2.42}\n",
      "{'loss': 0.0, 'grad_norm': 5.484248686116189e-05, 'learning_rate': 9.44696587661792e-06, 'epoch': 2.43}\n",
      "{'loss': 0.0, 'grad_norm': 7.4262403359171e-05, 'learning_rate': 9.236846528828375e-06, 'epoch': 2.45}\n",
      "{'loss': 0.0, 'grad_norm': 0.00013373547699302435, 'learning_rate': 9.02672718103883e-06, 'epoch': 2.46}\n",
      "{'loss': 0.017, 'grad_norm': 0.00015989788516890258, 'learning_rate': 8.816607833249287e-06, 'epoch': 2.47}\n",
      "{'loss': 0.0, 'grad_norm': 9.286424028687179e-05, 'learning_rate': 8.606488485459743e-06, 'epoch': 2.48}\n",
      "{'loss': 0.022, 'grad_norm': 8.558957779314369e-05, 'learning_rate': 8.396369137670198e-06, 'epoch': 2.5}\n",
      "{'loss': 0.0, 'grad_norm': 8.968192560132593e-05, 'learning_rate': 8.186249789880653e-06, 'epoch': 2.51}\n",
      "{'loss': 0.0, 'grad_norm': 0.00010996736818924546, 'learning_rate': 7.976130442091108e-06, 'epoch': 2.52}\n",
      "{'loss': 0.0, 'grad_norm': 0.00010240539268124849, 'learning_rate': 7.766011094301564e-06, 'epoch': 2.53}\n",
      "{'loss': 0.0, 'grad_norm': 6.0591119108721614e-05, 'learning_rate': 7.555891746512018e-06, 'epoch': 2.55}\n",
      "{'loss': 0.0, 'grad_norm': 0.00012467536726035178, 'learning_rate': 7.345772398722475e-06, 'epoch': 2.56}\n",
      "{'loss': 0.0, 'grad_norm': 6.279023364186287e-05, 'learning_rate': 7.1356530509329304e-06, 'epoch': 2.57}\n",
      "{'loss': 0.0, 'grad_norm': 0.00039331777952611446, 'learning_rate': 6.925533703143386e-06, 'epoch': 2.58}\n",
      "{'loss': 0.0, 'grad_norm': 0.00012079888256266713, 'learning_rate': 6.715414355353841e-06, 'epoch': 2.6}\n",
      "{'loss': 0.0, 'grad_norm': 6.442477024393156e-05, 'learning_rate': 6.505295007564296e-06, 'epoch': 2.61}\n",
      "{'loss': 0.0, 'grad_norm': 6.287451105890796e-05, 'learning_rate': 6.295175659774752e-06, 'epoch': 2.62}\n",
      "{'loss': 0.0, 'grad_norm': 0.0001266164326807484, 'learning_rate': 6.085056311985208e-06, 'epoch': 2.63}\n",
      "{'loss': 0.0, 'grad_norm': 4.191887273918837e-05, 'learning_rate': 5.874936964195663e-06, 'epoch': 2.65}\n",
      "{'loss': 0.0, 'grad_norm': 8.185787737602368e-05, 'learning_rate': 5.664817616406119e-06, 'epoch': 2.66}\n",
      "{'loss': 0.0, 'grad_norm': 5.832830720464699e-05, 'learning_rate': 5.4546982686165745e-06, 'epoch': 2.67}\n",
      "{'loss': 0.0012, 'grad_norm': 7.19766685506329e-05, 'learning_rate': 5.24457892082703e-06, 'epoch': 2.69}\n",
      "{'loss': 0.0, 'grad_norm': 4.2819490772672e-05, 'learning_rate': 5.034459573037485e-06, 'epoch': 2.7}\n",
      "{'loss': 0.0, 'grad_norm': 4.5904351281933486e-05, 'learning_rate': 4.824340225247941e-06, 'epoch': 2.71}\n",
      "{'loss': 0.0295, 'grad_norm': 0.0001405172370141372, 'learning_rate': 4.6142208774583965e-06, 'epoch': 2.72}\n",
      "{'loss': 0.0, 'grad_norm': 0.00021705793915316463, 'learning_rate': 4.404101529668852e-06, 'epoch': 2.74}\n",
      "{'loss': 0.0, 'grad_norm': 0.00027561135357245803, 'learning_rate': 4.193982181879308e-06, 'epoch': 2.75}\n",
      "{'loss': 0.0, 'grad_norm': 0.0003440947039052844, 'learning_rate': 3.983862834089763e-06, 'epoch': 2.76}\n",
      "{'loss': 0.0, 'grad_norm': 9.168424003291875e-05, 'learning_rate': 3.7737434863002185e-06, 'epoch': 2.77}\n",
      "{'loss': 0.0, 'grad_norm': 0.00017797992040868849, 'learning_rate': 3.563624138510674e-06, 'epoch': 2.79}\n",
      "{'loss': 0.0, 'grad_norm': 0.00014015697524882853, 'learning_rate': 3.35350479072113e-06, 'epoch': 2.8}\n",
      "{'loss': 0.0, 'grad_norm': 0.00013929606939200312, 'learning_rate': 3.1433854429315852e-06, 'epoch': 2.81}\n",
      "{'loss': 0.0, 'grad_norm': 0.00030210395925678313, 'learning_rate': 2.933266095142041e-06, 'epoch': 2.82}\n",
      "{'loss': 0.0, 'grad_norm': 8.947534661274403e-05, 'learning_rate': 2.7231467473524962e-06, 'epoch': 2.84}\n",
      "{'loss': 0.0, 'grad_norm': 0.00021210509294178337, 'learning_rate': 2.513027399562952e-06, 'epoch': 2.85}\n",
      "{'loss': 0.0, 'grad_norm': 0.0001765712513588369, 'learning_rate': 2.3029080517734072e-06, 'epoch': 2.86}\n",
      "{'loss': 0.0, 'grad_norm': 9.066282655112445e-05, 'learning_rate': 2.092788703983863e-06, 'epoch': 2.87}\n",
      "{'loss': 0.0003, 'grad_norm': 0.00011055151844630018, 'learning_rate': 1.8826693561943187e-06, 'epoch': 2.89}\n",
      "{'loss': 0.0, 'grad_norm': 0.0006595492013730109, 'learning_rate': 1.672550008404774e-06, 'epoch': 2.9}\n",
      "{'loss': 0.0, 'grad_norm': 0.0001706924376776442, 'learning_rate': 1.4624306606152297e-06, 'epoch': 2.91}\n",
      "{'loss': 0.0, 'grad_norm': 9.915723785525188e-05, 'learning_rate': 1.252311312825685e-06, 'epoch': 2.92}\n",
      "{'loss': 0.0, 'grad_norm': 6.0485679568955675e-05, 'learning_rate': 1.0421919650361405e-06, 'epoch': 2.94}\n",
      "{'loss': 0.0, 'grad_norm': 7.424066279781982e-05, 'learning_rate': 8.320726172465961e-07, 'epoch': 2.95}\n",
      "{'loss': 0.0167, 'grad_norm': 0.00012334220809862018, 'learning_rate': 6.219532694570517e-07, 'epoch': 2.96}\n",
      "{'loss': 0.0086, 'grad_norm': 8.748112304601818e-05, 'learning_rate': 4.1183392166750716e-07, 'epoch': 2.98}\n",
      "{'loss': 0.0, 'grad_norm': 0.0001723577152006328, 'learning_rate': 2.0171457387796272e-07, 'epoch': 2.99}\n"
     ]
    },
    {
     "data": {
      "application/vnd.jupyter.widget-view+json": {
       "model_id": "49235da0cbf7404a9fdfadad35ccd8c1",
       "version_major": 2,
       "version_minor": 0
      },
      "text/plain": [
       "  0%|          | 0/992 [00:00<?, ?it/s]"
      ]
     },
     "metadata": {},
     "output_type": "display_data"
    },
    {
     "name": "stdout",
     "output_type": "stream",
     "text": [
      "{'eval_loss': 0.0033583189360797405, 'eval_accuracy': 0.999495777133493, 'eval_f1': 0.9995369298448715, 'eval_precision': 0.9997684113015285, 'eval_recall': 0.9993055555555556, 'eval_runtime': 139.4014, 'eval_samples_per_second': 56.908, 'eval_steps_per_second': 7.116, 'epoch': 3.0}\n",
      "{'train_runtime': 5657.1338, 'train_samples_per_second': 16.825, 'train_steps_per_second': 2.103, 'train_loss': 0.012865702102552586, 'epoch': 3.0}\n",
      "Training complete.\n"
     ]
    }
   ],
   "source": [
    "# Cell 7: Train the Model\n",
    "print(\"Starting model training...\")\n",
    "\n",
    "trainer.train()\n",
    "\n",
    "print(\"Training complete.\")"
   ]
  },
  {
   "cell_type": "code",
   "execution_count": 17,
   "id": "7de3c978",
   "metadata": {},
   "outputs": [
    {
     "name": "stdout",
     "output_type": "stream",
     "text": [
      "Evaluating final model on the test set...\n"
     ]
    },
    {
     "data": {
      "application/vnd.jupyter.widget-view+json": {
       "model_id": "494134b3fe4e48848f27b8a68f84714d",
       "version_major": 2,
       "version_minor": 0
      },
      "text/plain": [
       "  0%|          | 0/992 [00:00<?, ?it/s]"
      ]
     },
     "metadata": {},
     "output_type": "display_data"
    },
    {
     "name": "stdout",
     "output_type": "stream",
     "text": [
      "\n",
      "Final Evaluation Results:\n",
      "{'eval_loss': 0.0033583189360797405, 'eval_accuracy': 0.999495777133493, 'eval_f1': 0.9995369298448715, 'eval_precision': 0.9997684113015285, 'eval_recall': 0.9993055555555556, 'eval_runtime': 139.0723, 'eval_samples_per_second': 57.042, 'eval_steps_per_second': 7.133, 'epoch': 3.0}\n",
      "\n",
      "✅ Model saved to: ./final_fake_news_model_fixed\n"
     ]
    }
   ],
   "source": [
    "# Cell 8: Evaluate and Save\n",
    "print(\"Evaluating final model on the test set...\")\n",
    "\n",
    "evaluation_results = trainer.evaluate()\n",
    "print(\"\\nFinal Evaluation Results:\")\n",
    "print(evaluation_results)\n",
    "\n",
    "# Save the fine-tuned model and tokenizer\n",
    "model_save_path = \"./final_fake_news_model_fixed\"\n",
    "trainer.save_model(model_save_path)\n",
    "print(f\"\\n✅ Model saved to: {model_save_path}\")"
   ]
  },
  {
   "cell_type": "code",
   "execution_count": 20,
   "id": "99732e52",
   "metadata": {},
   "outputs": [
    {
     "name": "stdout",
     "output_type": "stream",
     "text": [
      "Loading model from: ./final_fake_news_model_fixed\n",
      "\n",
      "--- Testing the new, corrected model ---\n",
      "\n",
      "📰 Text: Virat Kohli Gave test cricket retirement\n",
      "✅ Prediction: REAL (Confidence: 96.10%)\n",
      "\n",
      "📰 Text: Nasa says the Sun is gonna blast\n",
      "✅ Prediction: FAKE (Confidence: 100.00%)\n",
      "\n",
      "📰 Text: sky is white\n",
      "✅ Prediction: FAKE (Confidence: 99.99%)\n",
      "\n",
      "📰 Text: ind vs pak war ended\n",
      "✅ Prediction: FAKE (Confidence: 99.95%)\n",
      "\n",
      "📰 Text: trump is the president of america\n",
      "✅ Prediction: FAKE (Confidence: 99.99%)\n"
     ]
    }
   ],
   "source": [
    "# Cell 9: Inference Test\n",
    "from transformers import pipeline\n",
    "\n",
    "# This path was defined in the previous cell\n",
    "model_save_path = \"./final_fake_news_model_fixed\"\n",
    "print(f\"Loading model from: {model_save_path}\")\n",
    "\n",
    "# Load the model using the pipeline for easy inference\n",
    "pipe = pipeline(\"text-classification\", model=model_save_path)\n",
    "\n",
    "# Test sentences\n",
    "test_texts = [\n",
    "    \"Virat Kohli Gave test cricket retirement\",\n",
    "    \"Nasa says the Sun is gonna blast\",\n",
    "    \"sky is white\",\n",
    "    \"ind vs pak war ended\",\n",
    "    \"trump is the president of america\"\n",
    "]\n",
    "\n",
    "print(\"\\n--- Testing the new, corrected model ---\")\n",
    "for text in test_texts:\n",
    "    result = pipe(text)\n",
    "    \n",
    "    # The model's default labels are 'LABEL_0' and 'LABEL_1'.\n",
    "    # We'll map them to our desired \"FAKE\" and \"REAL\" names for clarity.\n",
    "    label_map = {'LABEL_1': 'REAL', 'LABEL_0': 'FAKE'}\n",
    "    predicted_label = label_map[result[0]['label']]\n",
    "    \n",
    "    print(f\"\\n📰 Text: {text}\")\n",
    "    print(f\"✅ Prediction: {predicted_label} (Confidence: {result[0]['score']:.2%})\")"
   ]
  },
  {
   "cell_type": "code",
   "execution_count": 21,
   "id": "eb1ea5a8",
   "metadata": {},
   "outputs": [
    {
     "name": "stdout",
     "output_type": "stream",
     "text": [
      "✅ Prediction: REAL (Confidence: 100.00%)\n"
     ]
    }
   ],
   "source": [
    "# Add a new cell for custom testing\n",
    "\n",
    "my_own_news_article = \"\"\"\n",
    "A new study published in the journal 'Nature' has found that certain species of deep-sea microbes\n",
    "are capable of biodegrading plastics at a rate previously thought impossible. The discovery\n",
    "could open new avenues for tackling plastic pollution in the world's oceans.\n",
    "\"\"\"\n",
    "\n",
    "# Use the same pipeline from the previous cell\n",
    "result = pipe(my_own_news_article)\n",
    "\n",
    "# Map the label and print the result\n",
    "label_map = {'LABEL_1': 'REAL', 'LABEL_0': 'FAKE'}\n",
    "predicted_label = label_map[result[0]['label']]\n",
    "\n",
    "print(f\"✅ Prediction: {predicted_label} (Confidence: {result[0]['score']:.2%})\")"
   ]
  }
 ],
 "metadata": {
  "kernelspec": {
   "display_name": "fake-news-env-310",
   "language": "python",
   "name": "python3"
  },
  "language_info": {
   "codemirror_mode": {
    "name": "ipython",
    "version": 3
   },
   "file_extension": ".py",
   "mimetype": "text/x-python",
   "name": "python",
   "nbconvert_exporter": "python",
   "pygments_lexer": "ipython3",
   "version": "3.10.0"
  }
 },
 "nbformat": 4,
 "nbformat_minor": 5
}
